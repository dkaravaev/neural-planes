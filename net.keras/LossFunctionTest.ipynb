{
 "cells": [
  {
   "cell_type": "code",
   "execution_count": 2,
   "metadata": {
    "collapsed": false
   },
   "outputs": [
    {
     "name": "stderr",
     "output_type": "stream",
     "text": [
      "Using gpu device 0: GeForce 840M (CNMeM is enabled with initial size: 10.0% of memory, cuDNN 5005)\n"
     ]
    }
   ],
   "source": [
    "from theano import *"
   ]
  },
  {
   "cell_type": "code",
   "execution_count": 8,
   "metadata": {
    "collapsed": false
   },
   "outputs": [
    {
     "data": {
      "text/plain": [
       "array(200.0)"
      ]
     },
     "execution_count": 8,
     "metadata": {},
     "output_type": "execute_result"
    }
   ],
   "source": [
    "import numpy\n",
    "\n",
    "scale_vector = [4] * 4\n",
    "scale_vector = numpy.asarray(scale_vector)\n",
    "\n",
    "vector_1 = numpy.asarray((48 * ([0, 0, 0, 0, 0, 0, 0, 0]) + [0.5, 0.3, 0.2, 0.1, 0, 1, 0, 1]) * 50)\n",
    "vector_2 = numpy.asarray((47 * ([0, 0, 0, 0, 0, 0, 0, 0]) + [0.1, 0.1, 0.3, 0.3, 1, 0, 0, 1] + [0.1, 0.1, 0.3, 0.3, 1, 0, 0, 1]) * 50)\n",
    "\n",
    "y_true = vector_1.reshape((50, 392))\n",
    "y_pred = vector_2.reshape((50, 392))\n",
    "\n",
    "loss = 0.0\n",
    "\n",
    "scale_vector = numpy.asarray([4] * 4)\n",
    "for i in range(49):\n",
    "    box_true = y_true[:, i * 8:i * 8 + 4]\n",
    "    box_pred = y_pred[:, i * 8:i * 8 + 4]\n",
    "\n",
    "    has_obj = y_true[:, i * 8 + 7]\n",
    "    pred_conf = y_pred[:, i * 8 + 7]\n",
    "\n",
    "    probs_true = y_true[:, i * 8 + 4:i * 8 + 7]\n",
    "    probs_pred = y_pred[:, i * 8 + 4:i * 8 + 7]\n",
    "\n",
    "    box_loss = tensor.sum(tensor.mul(scale_vector, tensor.square(box_true - box_pred)), axis=1)\n",
    "    prob_loss = tensor.sum(tensor.square(probs_true - probs_pred), axis=1)\n",
    "\n",
    "    loss += tensor.mul(has_obj, box_loss)\n",
    "    loss += tensor.mul(has_obj, prob_loss)\n",
    "    loss += tensor.square(has_obj - pred_conf)\n",
    "\n",
    "loss = tensor.sum(loss)\n",
    "loss.eval()"
   ]
  },
  {
   "cell_type": "code",
   "execution_count": null,
   "metadata": {
    "collapsed": true
   },
   "outputs": [],
   "source": [
    ""
   ]
  }
 ],
 "metadata": {
  "kernelspec": {
   "display_name": "Python 3",
   "language": "python",
   "name": "python3"
  },
  "language_info": {
   "codemirror_mode": {
    "name": "ipython",
    "version": 3.0
   },
   "file_extension": ".py",
   "mimetype": "text/x-python",
   "name": "python",
   "nbconvert_exporter": "python",
   "pygments_lexer": "ipython3",
   "version": "3.4.3"
  }
 },
 "nbformat": 4,
 "nbformat_minor": 0
}