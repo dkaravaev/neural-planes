{
 "cells": [
  {
   "cell_type": "code",
   "execution_count": 1,
   "metadata": {
    "collapsed": false
   },
   "outputs": [
    {
     "name": "stderr",
     "output_type": "stream",
     "text": [
      "Using gpu device 0: GeForce 840M (CNMeM is enabled with initial size: 10.0% of memory, cuDNN 5005)\n"
     ]
    }
   ],
   "source": [
    "from theano import *"
   ]
  },
  {
   "cell_type": "code",
   "execution_count": 2,
   "metadata": {
    "collapsed": false
   },
   "outputs": [
    {
     "data": {
      "text/plain": [
       "array(200.0)"
      ]
     },
     "execution_count": 2,
     "metadata": {},
     "output_type": "execute_result"
    }
   ],
   "source": [
    "import numpy\n",
    "\n",
    "scale_vector = [4] * 4\n",
    "scale_vector = numpy.asarray(scale_vector)\n",
    "\n",
    "vector_1 = numpy.asarray((48 * ([0, 0, 0, 0, 0, 0, 0, 0]) + [0.5, 0.3, 0.2, 0.1, 0, 1, 0, 1]) * 50)\n",
    "vector_2 = numpy.asarray((47 * ([0, 0, 0, 0, 0, 0, 0, 0]) + [0.1, 0.1, 0.3, 0.3, 1, 0, 0, 1] + [0.1, 0.1, 0.3, 0.3, 1, 0, 0, 1]) * 50)\n",
    "\n",
    "y_true = vector_1.reshape((50, 392))\n",
    "y_pred = vector_2.reshape((50, 392))\n",
    "\n",
    "loss = 0.0\n",
    "\n",
    "scale_vector = numpy.asarray([4] * 4)\n",
    "for i in range(49):\n",
    "    box_true = y_true[:, i * 8:i * 8 + 4]\n",
    "    box_pred = y_pred[:, i * 8:i * 8 + 4]\n",
    "\n",
    "    has_obj = y_true[:, i * 8 + 7]\n",
    "    pred_conf = y_pred[:, i * 8 + 7]\n",
    "\n",
    "    probs_true = y_true[:, i * 8 + 4:i * 8 + 7]\n",
    "    probs_pred = y_pred[:, i * 8 + 4:i * 8 + 7]\n",
    "\n",
    "    box_loss = tensor.sum(tensor.mul(scale_vector, tensor.square(box_true - box_pred)), axis=1)\n",
    "    prob_loss = tensor.sum(tensor.square(probs_true - probs_pred), axis=1)\n",
    "\n",
    "    loss += tensor.mul(has_obj, box_loss)\n",
    "    loss += tensor.mul(has_obj, prob_loss)\n",
    "    loss += tensor.square(has_obj - pred_conf)\n",
    "\n",
    "loss = tensor.sum(loss)\n",
    "loss.eval()"
   ]
  },
  {
   "cell_type": "code",
   "execution_count": 20,
   "metadata": {
    "collapsed": false
   },
   "outputs": [
    {
     "data": {
      "text/plain": [
       "array(1.0, dtype=float32)"
      ]
     },
     "execution_count": 20,
     "metadata": {},
     "output_type": "execute_result"
    }
   ],
   "source": [
    "acc = 0.0\n",
    "\n",
    "vector_1 = numpy.asarray((48 * ([0, 0, 0, 0, 0, 0, 0, 0]) + [0.5, 0.3, 0.2, 0.1, 0, 1, 0, 1]) * 50)\n",
    "vector_2 = numpy.asarray((47 * ([0, 0, 0, 0, 0, 0, 0, 0]) + [0.1, 0.1, 0.3, 0.3, 1, 0, 0, 1] + [0.1, 0.1, 0.3, 0.3, 1, 0, 0, 1]) * 50)\n",
    "\n",
    "y_true = vector_1.reshape((50, 392))\n",
    "y_pred = vector_2.reshape((50, 392))\n",
    "\n",
    "# acc = tensor.mean(acc)\n",
    "\n",
    "# acc = tensor.mean(tensor.eq(y_true[:, i * 8:i * 8 + 4], y_true[:, i * 8:i * 8 + 4]))\n",
    "\n",
    "for i in range(49):\n",
    "    acc += tensor.eq(y_true[:, i * 8:i * 8 + 4], y_true[:, i * 8:i * 8 + 4])\n",
    "    acc += tensor.eq(y_true[:, i * 8 + 4:i * 8 + 8], tensor.round(y_true[:, i * 8 + 4:i * 8 + 8]))\n",
    "\n",
    "acc = tensor.sum(acc)/19600\n",
    "acc.eval()"
   ]
  },
  {
   "cell_type": "code",
   "execution_count": 9,
   "metadata": {
    "collapsed": false
   },
   "outputs": [],
   "source": [
    "acc += tensor.mean(tensor.eq(y_true[:, 8:8 + 4], y_true[:, 8:8 + 4]))"
   ]
  },
  {
   "cell_type": "code",
   "execution_count": 10,
   "metadata": {
    "collapsed": false
   },
   "outputs": [
    {
     "name": "stderr",
     "output_type": "stream",
     "text": [
      "ERROR (theano.gof.opt): Optimization failure due to: constant_folding\n",
      "ERROR (theano.gof.opt): node: Elemwise{add,no_inplace}(TensorConstant{1.0}, TensorConstant{1.0}, TensorConstant{1.0}, TensorConstant{1.0}, TensorConstant{1.0}, TensorConstant{1.0}, TensorConstant{1.0}, TensorConstant{1.0}, TensorConstant{1.0}, TensorConstant{1.0}, TensorConstant{1.0}, TensorConstant{1.0}, TensorConstant{1.0}, TensorConstant{1.0}, TensorConstant{1.0}, TensorConstant{1.0}, TensorConstant{1.0}, TensorConstant{1.0}, TensorConstant{1.0}, TensorConstant{1.0}, TensorConstant{1.0}, TensorConstant{1.0}, TensorConstant{1.0}, TensorConstant{1.0}, TensorConstant{1.0}, TensorConstant{1.0}, TensorConstant{1.0}, TensorConstant{1.0}, TensorConstant{1.0}, TensorConstant{1.0}, TensorConstant{1.0}, TensorConstant{1.0}, TensorConstant{1.0}, TensorConstant{1.0}, TensorConstant{1.0}, TensorConstant{1.0}, TensorConstant{1.0}, TensorConstant{1.0}, TensorConstant{1.0}, TensorConstant{1.0}, TensorConstant{1.0}, TensorConstant{1.0}, TensorConstant{1.0}, TensorConstant{1.0}, TensorConstant{1.0}, TensorConstant{1.0}, TensorConstant{1.0}, TensorConstant{1.0}, TensorConstant{1.0}, TensorConstant{1.0}, TensorConstant{1.0}, TensorConstant{1.0}, TensorConstant{1.0}, TensorConstant{1.0}, TensorConstant{1.0}, TensorConstant{1.0}, TensorConstant{1.0}, TensorConstant{1.0}, TensorConstant{1.0}, TensorConstant{1.0}, TensorConstant{1.0}, TensorConstant{1.0}, TensorConstant{1.0}, TensorConstant{1.0}, TensorConstant{1.0}, TensorConstant{1.0}, TensorConstant{1.0}, TensorConstant{1.0}, TensorConstant{1.0}, TensorConstant{1.0}, TensorConstant{1.0}, TensorConstant{1.0}, TensorConstant{1.0}, TensorConstant{1.0}, TensorConstant{1.0}, TensorConstant{1.0}, TensorConstant{1.0}, TensorConstant{1.0}, TensorConstant{1.0}, TensorConstant{1.0}, TensorConstant{1.0}, TensorConstant{1.0}, TensorConstant{1.0}, TensorConstant{1.0}, TensorConstant{1.0}, TensorConstant{1.0}, TensorConstant{1.0}, TensorConstant{1.0}, TensorConstant{1.0}, TensorConstant{1.0}, TensorConstant{1.0}, TensorConstant{1.0}, TensorConstant{1.0}, TensorConstant{1.0}, TensorConstant{1.0}, TensorConstant{1.0}, TensorConstant{1.0}, TensorConstant{1.0}, TensorConstant{1.0})\n",
      "ERROR (theano.gof.opt): TRACEBACK:\n",
      "ERROR (theano.gof.opt): Traceback (most recent call last):\n",
      "  File \"/usr/local/lib/python3.4/dist-packages/theano/gof/opt.py\", line 1779, in process_node\n",
      "    replacements = lopt.transform(node)\n",
      "  File \"/usr/local/lib/python3.4/dist-packages/theano/tensor/opt.py\", line 5995, in constant_folding\n",
      "    required = thunk()\n",
      "  File \"/usr/local/lib/python3.4/dist-packages/theano/gof/op.py\", line 905, in rval\n",
      "    r = p(n, [x[0] for x in i], o)\n",
      "  File \"/usr/local/lib/python3.4/dist-packages/theano/tensor/elemwise.py\", line 850, in perform\n",
      "    super(Elemwise, self).perform(node, inputs, output_storage)\n",
      "  File \"/usr/local/lib/python3.4/dist-packages/theano/gof/op.py\", line 762, in perform\n",
      "    \"Did you used Theano flags mode=FAST_COMPILE?\"\n",
      "theano.gof.utils.MethodNotDefined: ('perform', <class 'theano.tensor.elemwise.Elemwise'>, 'Elemwise', 'Did you used Theano flags mode=FAST_COMPILE? You can use optimizer=fast_compile instead.')\n",
      "\n"
     ]
    },
    {
     "data": {
      "text/plain": [
       "array(99.0)"
      ]
     },
     "execution_count": 10,
     "metadata": {},
     "output_type": "execute_result"
    }
   ],
   "source": [
    "acc.eval()"
   ]
  },
  {
   "cell_type": "code",
   "execution_count": null,
   "metadata": {
    "collapsed": true
   },
   "outputs": [],
   "source": []
  }
 ],
 "metadata": {
  "kernelspec": {
   "display_name": "Python 3",
   "language": "python",
   "name": "python3"
  },
  "language_info": {
   "codemirror_mode": {
    "name": "ipython",
    "version": 3
   },
   "file_extension": ".py",
   "mimetype": "text/x-python",
   "name": "python",
   "nbconvert_exporter": "python",
   "pygments_lexer": "ipython3",
   "version": "3.4.3"
  }
 },
 "nbformat": 4,
 "nbformat_minor": 0
}
